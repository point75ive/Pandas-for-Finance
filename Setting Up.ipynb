{
 "cells": [
  {
   "cell_type": "markdown",
   "id": "e845d706-1344-4a59-aba1-713cc68faf7d",
   "metadata": {},
   "source": [
    "# Setting Up Packages\n",
    "\n",
    "Your code is best run in the command prompt."
   ]
  },
  {
   "cell_type": "markdown",
   "id": "76c5771d-3576-4d32-aa2d-dadc866eef71",
   "metadata": {},
   "source": [
    "## 1. Installing Zipline\n",
    "Installing Zipline via pip is slightly more involved than the average Python package.\n",
    "\n",
    "### Complexities:\n",
    "\n",
    "ERROR: Could not build wheels for ta-lib, which is required to install pyproject.toml-based projects"
   ]
  },
  {
   "cell_type": "markdown",
   "id": "9f666902-3566-43a9-bbc5-a9dcd401a885",
   "metadata": {},
   "source": [
    "### Solution\n",
    "\n",
    "1. https://github.com/afnhsn/TA-Lib_x64\n",
    "2. Download \"ta-lib x64.zip\" from github above. Extract zip file to C:\\, so it looks like this C:\\ta-lib\n",
    "3. Download Visual C++ build tools 2022: https://aka.ms/vs/17/release/vs_buildtools.exe\n",
    "4. Install Visual C++ build tools: https://stackoverflow.com/a/54136652/10997732\n",
    "5. Build TA-Lib Library\n",
    "    From Windows Start Menu, Start [VS2022 x64 Native Tools Command Prompt]\n",
    "    cd to C:\\ta-lib\\c\\make\\cdr\\win32\\msvc\n",
    "    Build the Library nmake\n",
    "6. Then pip3 install ta-lib"
   ]
  },
  {
   "cell_type": "markdown",
   "id": "e4c951bf-4540-4b58-8510-27691bb5b4d2",
   "metadata": {},
   "source": [
    "Once you’ve installed the necessary additional dependencies, run (preferably inside an activated virtual environment): pip install zipline-reloaded"
   ]
  },
  {
   "cell_type": "code",
   "execution_count": null,
   "id": "f163d7a7-68b5-4235-b5c8-393d33372c45",
   "metadata": {},
   "outputs": [],
   "source": [
    "pip install zipline-reloaded"
   ]
  },
  {
   "cell_type": "markdown",
   "id": "7b2beb69-d9fe-4b83-92a9-1df097ac4c5c",
   "metadata": {},
   "source": [
    "If you use Python for anything other than Zipline, the documentation strongly recommends that you install it in a virtualenv. Find the corresponding virtualenv notebook in the repo. "
   ]
  },
  {
   "cell_type": "markdown",
   "id": "6a42a053-c254-4b5c-a30d-50bd6f493ae8",
   "metadata": {},
   "source": [
    "## 2. MatplotLib"
   ]
  },
  {
   "cell_type": "markdown",
   "id": "b7eeda70-74dc-4353-8987-749806f91908",
   "metadata": {},
   "source": [
    "This is the graphics package that will be used throughout this learning. "
   ]
  },
  {
   "cell_type": "code",
   "execution_count": null,
   "id": "69db65f4-52af-4768-bfec-b171632e1151",
   "metadata": {},
   "outputs": [],
   "source": [
    "pip install --upgrade matplotlib "
   ]
  },
  {
   "cell_type": "markdown",
   "id": "96fe3ca6-4582-46f1-a14e-0ca0fd8ada12",
   "metadata": {},
   "source": [
    "## 3. Tzlocal"
   ]
  },
  {
   "cell_type": "markdown",
   "id": "b4be51d3-515d-47d7-b92a-747db8bc6cba",
   "metadata": {},
   "source": [
    "For time zone operations, tzlocal is used."
   ]
  },
  {
   "cell_type": "code",
   "execution_count": null,
   "id": "cc3bf13a-50c3-444c-92df-3bc90534b439",
   "metadata": {},
   "outputs": [],
   "source": [
    "pip install tzlocal"
   ]
  },
  {
   "cell_type": "markdown",
   "id": "bc271dfe-04d4-4667-a65e-b39b66e0acd6",
   "metadata": {},
   "source": [
    "## 4. Html5lib"
   ]
  },
  {
   "cell_type": "markdown",
   "id": "7d007934-a4b2-44fc-962c-823d2e388817",
   "metadata": {},
   "source": [
    "The samples do not use html5lib directly, but other libraries use it indirectly. We will use these libraries to read and parse data."
   ]
  },
  {
   "cell_type": "code",
   "execution_count": null,
   "id": "f5160f71-efa1-49e3-9237-0179504ab99c",
   "metadata": {},
   "outputs": [],
   "source": [
    "pip install html5lib"
   ]
  },
  {
   "cell_type": "markdown",
   "id": "3b2010a8-1e42-4815-8447-1cf74caf757c",
   "metadata": {},
   "source": [
    "## 5. Quandl"
   ]
  },
  {
   "cell_type": "markdown",
   "id": "89661312-e1eb-419b-a40e-3eba9675b219",
   "metadata": {},
   "source": [
    "A library provided at https://www.quandl.com/, Quandl is a provider of data that you can integrate into your applications via download or the API."
   ]
  },
  {
   "cell_type": "code",
   "execution_count": null,
   "id": "11837950-adb6-4efa-8201-aa33338d71fd",
   "metadata": {},
   "outputs": [],
   "source": [
    "pip install quandl"
   ]
  },
  {
   "cell_type": "markdown",
   "id": "fa5f9d07-317d-4148-9476-206a6d2fab85",
   "metadata": {},
   "source": [
    "## 6. Mibian"
   ]
  },
  {
   "cell_type": "markdown",
   "id": "85aa8b67-0359-4ff8-977d-1bdb290dc9c5",
   "metadata": {},
   "source": [
    "A small library that computes Black-Scholes and its derivatives. "
   ]
  },
  {
   "cell_type": "code",
   "execution_count": null,
   "id": "e85765e2-c836-4c8f-8c56-cca9746ecc27",
   "metadata": {},
   "outputs": [],
   "source": [
    "pip install mibian"
   ]
  }
 ],
 "metadata": {
  "kernelspec": {
   "display_name": "Python 3 (ipykernel)",
   "language": "python",
   "name": "python3"
  },
  "language_info": {
   "codemirror_mode": {
    "name": "ipython",
    "version": 3
   },
   "file_extension": ".py",
   "mimetype": "text/x-python",
   "name": "python",
   "nbconvert_exporter": "python",
   "pygments_lexer": "ipython3",
   "version": "3.11.5"
  }
 },
 "nbformat": 4,
 "nbformat_minor": 5
}
