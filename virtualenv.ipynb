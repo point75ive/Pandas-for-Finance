{
 "cells": [
  {
   "cell_type": "markdown",
   "id": "e8338be9-c0d1-4ebc-aaa3-17b96991457f",
   "metadata": {},
   "source": [
    "# You have brains in your head and feet in your shoes, you can steer yourself in any direction you choose. Dr Seuss"
   ]
  },
  {
   "cell_type": "markdown",
   "id": "f78f01da-d0ed-47dc-84f0-40ea6e832449",
   "metadata": {},
   "source": [
    "This notebook is a breakdown of creating virtual environments  and setting up Spyder within a Winpy Python environment. The code best runs in your Python distribution's command prompt."
   ]
  },
  {
   "cell_type": "markdown",
   "id": "f7e8b612-c8a3-4843-8d88-25f4a9b18831",
   "metadata": {},
   "source": [
    "## Install WinPython \n",
    "\n",
    "1. Download  the latest version of WinPython from sourceforge.net.\n",
    "\n",
    "2. Run the .exe file  to unpack the files to a destination folder of your preference. "
   ]
  },
  {
   "cell_type": "markdown",
   "id": "c3b0b912-5c4a-47da-ba57-f88d2f186960",
   "metadata": {},
   "source": [
    "## Install virtualenv\n",
    "\n",
    "From your destination folder, start WinPython Command Prompt.exe and install virtualenv using pip. "
   ]
  },
  {
   "cell_type": "code",
   "execution_count": null,
   "id": "7f153ede-acee-4e3b-9dd5-71d9441b7186",
   "metadata": {},
   "outputs": [],
   "source": [
    "pip install virtualenv"
   ]
  },
  {
   "cell_type": "markdown",
   "id": "da902676-922d-41b4-912d-6135431e124e",
   "metadata": {},
   "source": [
    "## Create a virtual environment \n",
    "\n",
    "Each virtual environment is located in a folder.\n",
    "Create a high-level folder to house the environment folders called \"environments\" and cd into it.  "
   ]
  },
  {
   "cell_type": "code",
   "execution_count": null,
   "id": "3461201e-7145-43d6-946c-f18ad6fba3aa",
   "metadata": {},
   "outputs": [],
   "source": [
    "mkdir c:\\environments\n",
    "cd c:\\environments"
   ]
  },
  {
   "cell_type": "markdown",
   "id": "277ec1e1-df03-42d3-9584-7a36d3b55466",
   "metadata": {},
   "source": [
    "Choose a name for your envinronment and create the envinronment by running:"
   ]
  },
  {
   "cell_type": "code",
   "execution_count": null,
   "id": "91275a91-2c70-41fe-b06b-961b5cae8ca0",
   "metadata": {},
   "outputs": [],
   "source": [
    "virtualenv examplename"
   ]
  },
  {
   "cell_type": "markdown",
   "id": "a2d99f2d-d284-44bf-8d8d-6d4fb8fa8f10",
   "metadata": {},
   "source": [
    "To start using the ennvironment, activate it as follows. "
   ]
  },
  {
   "cell_type": "code",
   "execution_count": null,
   "id": "d2ac2bc2-b1cf-49fd-b1e0-3571d51d14b8",
   "metadata": {},
   "outputs": [],
   "source": [
    "c:\\environments\\examplename\\Scripts\\activate"
   ]
  },
  {
   "cell_type": "markdown",
   "id": "aebcff37-3c9d-4e6f-81d8-4bfe0304b94e",
   "metadata": {},
   "source": [
    "Install packages into your envinronment using the ordinary pip method."
   ]
  },
  {
   "cell_type": "code",
   "execution_count": null,
   "id": "495f742f-bc83-4a0b-8724-7746b931f36b",
   "metadata": {},
   "outputs": [],
   "source": [
    "pip install numpy"
   ]
  },
  {
   "cell_type": "markdown",
   "id": "3ec09381-de5b-49a5-8328-5f490d12ae97",
   "metadata": {},
   "source": [
    "To check what packages are installed in your envinronment, run pip freeze. "
   ]
  },
  {
   "cell_type": "code",
   "execution_count": null,
   "id": "3c6401a3-d7df-4553-abaf-a3d74cc1ea58",
   "metadata": {},
   "outputs": [],
   "source": [
    "pip freeze"
   ]
  },
  {
   "cell_type": "markdown",
   "id": "d7f516af-35d1-40c1-ac87-39a96c7b349f",
   "metadata": {},
   "source": [
    "End the virtual envinronment by typing: deactivate."
   ]
  },
  {
   "cell_type": "code",
   "execution_count": null,
   "id": "60b017bd-210b-46c9-8776-06b665aa98e1",
   "metadata": {},
   "outputs": [],
   "source": [
    "deactivate"
   ]
  },
  {
   "cell_type": "markdown",
   "id": "9a9f36c3-35ad-403b-9021-ee994b579116",
   "metadata": {},
   "source": [
    "There is no command for deleting your virtual environment. Simply deactivate it and rid your application of its artifacts by recursively removing it."
   ]
  },
  {
   "cell_type": "markdown",
   "id": "a647a02c-b247-4b33-ae05-7eb3499db8e1",
   "metadata": {},
   "source": [
    "## To get Spyder to run in Virtual Environment:\n",
    "\n",
    "1. Activate your virtual environment.\n",
    "2. Likely, the Python environment interpreter in your virtual environment doesn't have the spyder-kernels module.\n",
    "   Without this module, it is impossible to create a console on Spyder.\n",
    "   Install it in the active virtual environment by running pip install spyder-kernels==2.4.*   \n",
    "4. Then, pip install Spyder and its dependencies (PyQt5) in your virtual environment.\n",
    "5. Then launch Spyder3 from your virtual environment CLI.\n",
    "6. Remember to set up the necessary packages in your environment before launching spyder because you will not be able to run more code in the command prompt until you exit your spyder instance.\n"
   ]
  },
  {
   "cell_type": "code",
   "execution_count": null,
   "id": "ec3d2a43-5f91-4d6c-9b86-28e2709c6528",
   "metadata": {},
   "outputs": [],
   "source": [
    "pip install spyder-kernels==2.4.*"
   ]
  },
  {
   "cell_type": "code",
   "execution_count": null,
   "id": "c4fca1d4-fb40-4cf0-8ee4-232d825d82da",
   "metadata": {},
   "outputs": [],
   "source": [
    "pip install pyqt5\n",
    "pip install spyder"
   ]
  },
  {
   "cell_type": "code",
   "execution_count": null,
   "id": "e0331a57-703f-4b93-bf86-63203af40b35",
   "metadata": {},
   "outputs": [],
   "source": [
    "python -m spyder.app.start"
   ]
  },
  {
   "cell_type": "markdown",
   "id": "70eb818b-1822-4dd1-8043-6f017f404efd",
   "metadata": {},
   "source": [
    "## Configure Spyder for your environment\n",
    "Python Spyder IDE is ideal for data analysis and is the primary IDE for mastering Python for Finance.  \n",
    "\n",
    "1. Find and copy the path for the Python executable inside the environment.\n",
    "   Finding this path can be done using the prompt by running \"python -c \"import sys; print(sys.executable).\"\n",
    "2. On the top menu of the Spyder, click on Tools → Preferences\n",
    "3. In the preferences window, select Python interpreter.\n",
    "4. Click the “Use the following Python interpreter” radio button.\n",
    "5. Provide the path of the python.exe available in the newly created environment.\n",
    "6. Click Ok.\n",
    "7. Restart the ipython console"
   ]
  },
  {
   "cell_type": "code",
   "execution_count": null,
   "id": "8d609d34-da3c-4deb-8ce0-88d7de7f8cb4",
   "metadata": {},
   "outputs": [],
   "source": [
    "python -c \"import sys; print(sys.executable)"
   ]
  }
 ],
 "metadata": {
  "kernelspec": {
   "display_name": "Python 3 (ipykernel)",
   "language": "python",
   "name": "python3"
  },
  "language_info": {
   "codemirror_mode": {
    "name": "ipython",
    "version": 3
   },
   "file_extension": ".py",
   "mimetype": "text/x-python",
   "name": "python",
   "nbconvert_exporter": "python",
   "pygments_lexer": "ipython3",
   "version": "3.11.5"
  }
 },
 "nbformat": 4,
 "nbformat_minor": 5
}
