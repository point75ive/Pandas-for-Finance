{
 "cells": [
  {
   "cell_type": "markdown",
   "id": "ca221646-b868-40af-bc21-5e5fffb8b8ad",
   "metadata": {},
   "source": [
    "Set up the notebook by installing and importing the necessary packages and setting options for our display."
   ]
  },
  {
   "cell_type": "code",
   "execution_count": 1,
   "id": "2891a4d7-795b-4811-993a-31ccb7e3859f",
   "metadata": {},
   "outputs": [],
   "source": [
    "import pandas as pd \n",
    "import numpy as np\n",
    "\n",
    "pd.set_option('display.notebook_repr_html', False)\n",
    "pd.set_option('display.max_columns', 8)\n",
    "pd.set_option('display.max_rows', 8)\n",
    "\n",
    "# If either of the necessary packages is not installed, install using pip install <packagename> e.g pip install pandas"
   ]
  },
  {
   "cell_type": "markdown",
   "id": "3efe01d5-0d2a-4131-8628-bb36251f5741",
   "metadata": {},
   "source": [
    "## The Series"
   ]
  },
  {
   "cell_type": "markdown",
   "id": "f2e4853c-c2f8-4ea4-a6c5-122b2b37016d",
   "metadata": {},
   "source": [
    "A one-dimensional labelled array based on Numpy ndarray. It extends the functionality of the ndarray by adding a set of labels used to index the elements of the array. \n",
    "\n",
    "A Series can hold zero or more instances of a single data type. \n",
    "\n",
    "A Series allows access to elements through the associated index labels. The index is also helpful for alignment - where operations between two series are applied to values with identical labels. "
   ]
  },
  {
   "cell_type": "markdown",
   "id": "7e427469-ee3b-4c23-9a54-70115bfe40e0",
   "metadata": {},
   "source": [
    "## The DataFrame"
   ]
  },
  {
   "cell_type": "markdown",
   "id": "dc8b452b-5db6-461d-9574-8a306396ec26",
   "metadata": {},
   "source": [
    "A DataFrame unifies multiple Series into a single data structure. Each Series represents a named column of the DataFrame with a single index for all columns. \n",
    "\n",
    "A DataFrame has two axes, horizontal and vertical,  and functions can be applied to either axis. "
   ]
  },
  {
   "cell_type": "markdown",
   "id": "da193b4c-4839-44de-ab9d-c0133fa3cddc",
   "metadata": {},
   "source": [
    "### Creating a Series and accessing elements"
   ]
  },
  {
   "cell_type": "markdown",
   "id": "0406de08-d7d6-4f95-9945-b51bf739bbb8",
   "metadata": {},
   "source": [
    "A Series can be created by passing a scalar value, a Numpy array, or a Python dictionary/list to the constructor series object.\n",
    "\n",
    "Create a Series from 100 normally distributed random numbers."
   ]
  },
  {
   "cell_type": "code",
   "execution_count": 2,
   "id": "f1deb001-6d16-4844-93fa-8deb2bccb897",
   "metadata": {},
   "outputs": [
    {
     "data": {
      "text/plain": [
       "0     1.624345\n",
       "1    -0.611756\n",
       "2    -0.528172\n",
       "3    -1.072969\n",
       "        ...   \n",
       "96   -0.343854\n",
       "97    0.043597\n",
       "98   -0.620001\n",
       "99    0.698032\n",
       "Length: 100, dtype: float64"
      ]
     },
     "execution_count": 2,
     "metadata": {},
     "output_type": "execute_result"
    }
   ],
   "source": [
    "np.random.seed(1)\n",
    "s=pd.Series(np.random.randn(100))\n",
    "s"
   ]
  },
  {
   "cell_type": "markdown",
   "id": "8c998a71-eada-45db-a9b5-a190aa16090f",
   "metadata": {},
   "source": [
    "Individual elements of the Series can be retrieved using the [] operator of the Series object. \n",
    "\n",
    "Access the item with index 2."
   ]
  },
  {
   "cell_type": "code",
   "execution_count": 3,
   "id": "6bf6d87e-ff61-4b4d-80ae-50b185164fa4",
   "metadata": {},
   "outputs": [
    {
     "data": {
      "text/plain": [
       "-0.5281717522634557"
      ]
     },
     "execution_count": 3,
     "metadata": {},
     "output_type": "execute_result"
    }
   ],
   "source": [
    "s[2]"
   ]
  },
  {
   "cell_type": "markdown",
   "id": "b865c213-df8d-4b38-ad2c-673d750637cd",
   "metadata": {},
   "source": [
    "Multiple values can be retrieved using an array of label values."
   ]
  },
  {
   "cell_type": "code",
   "execution_count": 4,
   "id": "0e2a4d72-123a-422a-b4cb-a4e1be403ee2",
   "metadata": {},
   "outputs": [
    {
     "data": {
      "text/plain": [
       "2    -0.528172\n",
       "5    -2.301539\n",
       "25   -0.683728\n",
       "dtype: float64"
      ]
     },
     "execution_count": 4,
     "metadata": {},
     "output_type": "execute_result"
    }
   ],
   "source": [
    "s[[2,5,25]]"
   ]
  },
  {
   "cell_type": "markdown",
   "id": "3403a90b-e57d-4d94-ad34-348990c559d9",
   "metadata": {},
   "source": [
    "A Series supports slicing through the : slice notation.\n",
    "\n",
    "Retrieve the elements from index 3 to 7 (the end value is not inclusive in Pandas slicing, which is a slight difference from Numpy arrays)."
   ]
  },
  {
   "cell_type": "code",
   "execution_count": 5,
   "id": "954bd19c-8a5b-4f91-86e9-e1df5b9faf0b",
   "metadata": {},
   "outputs": [
    {
     "data": {
      "text/plain": [
       "3   -1.072969\n",
       "4    0.865408\n",
       "5   -2.301539\n",
       "6    1.744812\n",
       "7   -0.761207\n",
       "dtype: float64"
      ]
     },
     "execution_count": 5,
     "metadata": {},
     "output_type": "execute_result"
    }
   ],
   "source": [
    "s[3:8]"
   ]
  },
  {
   "cell_type": "markdown",
   "id": "56eb55ec-8118-4326-a9a8-e32442496cd7",
   "metadata": {},
   "source": [
    "Pandas provides the .head() and .tail() methods to view just the first or last few records in a Series. By default, these return the first or last five rows, but you can use the n parameter or pass an integer to specify the number of rows. "
   ]
  },
  {
   "cell_type": "code",
   "execution_count": 6,
   "id": "3403bdaa-0504-45a2-a8d7-0cfcd987c7d2",
   "metadata": {},
   "outputs": [
    {
     "data": {
      "text/plain": [
       "0    1.624345\n",
       "1   -0.611756\n",
       "2   -0.528172\n",
       "3   -1.072969\n",
       "4    0.865408\n",
       "dtype: float64"
      ]
     },
     "execution_count": 6,
     "metadata": {},
     "output_type": "execute_result"
    }
   ],
   "source": [
    "s.head()"
   ]
  },
  {
   "cell_type": "code",
   "execution_count": 7,
   "id": "1e66d8c0-b199-4f1d-9c3f-722e556572bc",
   "metadata": {},
   "outputs": [
    {
     "data": {
      "text/plain": [
       "95    0.077340\n",
       "96   -0.343854\n",
       "97    0.043597\n",
       "98   -0.620001\n",
       "99    0.698032\n",
       "dtype: float64"
      ]
     },
     "execution_count": 7,
     "metadata": {},
     "output_type": "execute_result"
    }
   ],
   "source": [
    "s.tail()"
   ]
  },
  {
   "cell_type": "markdown",
   "id": "2eef93ea-5f24-46c1-ab7b-dafdea359ead",
   "metadata": {},
   "source": [
    "A Series contains an index and a sequence of values. The index can be retrieved using the .index property."
   ]
  },
  {
   "cell_type": "code",
   "execution_count": 8,
   "id": "cbd04275-944c-4184-92fe-a85360a75a80",
   "metadata": {},
   "outputs": [
    {
     "data": {
      "text/plain": [
       "RangeIndex(start=0, stop=100, step=1)"
      ]
     },
     "execution_count": 8,
     "metadata": {},
     "output_type": "execute_result"
    }
   ],
   "source": [
    "s.index"
   ]
  },
  {
   "cell_type": "markdown",
   "id": "31e0ecfb-a614-4925-bb0e-312442ae5da2",
   "metadata": {},
   "source": [
    "The values in a Series can be retrieved using the .values property."
   ]
  },
  {
   "cell_type": "code",
   "execution_count": 9,
   "id": "4e42c3af-a9a6-4be2-803c-9e80f09c0894",
   "metadata": {},
   "outputs": [
    {
     "data": {
      "text/plain": [
       "array([ 1.62434536, -0.61175641, -0.52817175, -1.07296862,  0.86540763,\n",
       "       -2.3015387 ,  1.74481176, -0.7612069 ,  0.3190391 , -0.24937038,\n",
       "        1.46210794, -2.06014071, -0.3224172 , -0.38405435,  1.13376944,\n",
       "       -1.09989127, -0.17242821, -0.87785842,  0.04221375,  0.58281521,\n",
       "       -1.10061918,  1.14472371,  0.90159072,  0.50249434,  0.90085595,\n",
       "       -0.68372786, -0.12289023, -0.93576943, -0.26788808,  0.53035547,\n",
       "       -0.69166075, -0.39675353, -0.6871727 , -0.84520564, -0.67124613,\n",
       "       -0.0126646 , -1.11731035,  0.2344157 ,  1.65980218,  0.74204416,\n",
       "       -0.19183555, -0.88762896, -0.74715829,  1.6924546 ,  0.05080775,\n",
       "       -0.63699565,  0.19091548,  2.10025514,  0.12015895,  0.61720311,\n",
       "        0.30017032, -0.35224985, -1.1425182 , -0.34934272, -0.20889423,\n",
       "        0.58662319,  0.83898341,  0.93110208,  0.28558733,  0.88514116,\n",
       "       -0.75439794,  1.25286816,  0.51292982, -0.29809284,  0.48851815,\n",
       "       -0.07557171,  1.13162939,  1.51981682,  2.18557541, -1.39649634,\n",
       "       -1.44411381, -0.50446586,  0.16003707,  0.87616892,  0.31563495,\n",
       "       -2.02220122, -0.30620401,  0.82797464,  0.23009474,  0.76201118,\n",
       "       -0.22232814, -0.20075807,  0.18656139,  0.41005165,  0.19829972,\n",
       "        0.11900865, -0.67066229,  0.37756379,  0.12182127,  1.12948391,\n",
       "        1.19891788,  0.18515642, -0.37528495, -0.63873041,  0.42349435,\n",
       "        0.07734007, -0.34385368,  0.04359686, -0.62000084,  0.69803203])"
      ]
     },
     "execution_count": 9,
     "metadata": {},
     "output_type": "execute_result"
    }
   ],
   "source": [
    "s.values"
   ]
  },
  {
   "cell_type": "markdown",
   "id": "b49219f1-87bf-4ed3-a65f-dd0fb3254e43",
   "metadata": {},
   "source": [
    "If you do not set the index label values when creating a Series, Pandas assigns sequential integer values srating at 0. \n",
    "\n",
    "To specify non-default index labels, use the index parameter of the Series object constructor or assign them using the .index property after creation."
   ]
  },
  {
   "cell_type": "code",
   "execution_count": 10,
   "id": "3a3d18a1-2e05-442a-8bf2-1b8f576a0d49",
   "metadata": {},
   "outputs": [
    {
     "data": {
      "text/plain": [
       "a    1\n",
       "b    2\n",
       "c    3\n",
       "d    4\n",
       "dtype: int64"
      ]
     },
     "execution_count": 10,
     "metadata": {},
     "output_type": "execute_result"
    }
   ],
   "source": [
    "s2=pd.Series([1,2,3,4], index=['a', 'b', 'c', 'd'])\n",
    "s2"
   ]
  },
  {
   "cell_type": "markdown",
   "id": "ea494605-3aa4-491a-8604-718ca6d787ec",
   "metadata": {},
   "source": [
    "A Series can be directly initialized from a Python dictionary. The keys of the disctiobary are used as index labels for the Series. "
   ]
  },
  {
   "cell_type": "code",
   "execution_count": 11,
   "id": "77f71d43-341b-4672-91cd-c3bc382f26fa",
   "metadata": {},
   "outputs": [
    {
     "data": {
      "text/plain": [
       "a    1\n",
       "b    2\n",
       "c    3\n",
       "d    4\n",
       "e    5\n",
       "dtype: int64"
      ]
     },
     "execution_count": 11,
     "metadata": {},
     "output_type": "execute_result"
    }
   ],
   "source": [
    "s3=pd.Series({'a':1, 'b':2, 'c':3, 'd':4, 'e':5})\n",
    "s3"
   ]
  },
  {
   "cell_type": "markdown",
   "id": "1e8c74a2-990b-4571-b2a8-a19c7deb3de9",
   "metadata": {},
   "source": [
    "### Shape, size, uniqueness and counts of values"
   ]
  },
  {
   "cell_type": "markdown",
   "id": "3c27f99c-77c3-48b1-bae4-55f4de1135c8",
   "metadata": {},
   "source": [
    "The number of elements in a series can be determined using the len() function."
   ]
  },
  {
   "cell_type": "code",
   "execution_count": 12,
   "id": "1ea1786c-9e24-44d9-9c02-f9c8f106b221",
   "metadata": {},
   "outputs": [
    {
     "data": {
      "text/plain": [
       "10"
      ]
     },
     "execution_count": 12,
     "metadata": {},
     "output_type": "execute_result"
    }
   ],
   "source": [
    "s4=pd.Series([10,0,1,1,2,3,4,5,6,np.nan])\n",
    "len(s4)"
   ]
  },
  {
   "cell_type": "markdown",
   "id": "3c6a82dd-9c8c-4236-b4c7-e69ba779143d",
   "metadata": {},
   "source": [
    "The .shape property returns a tuple containing the dimensionality of the series. Since a Series is one dimensional, only the length value is provided in the tuple."
   ]
  },
  {
   "cell_type": "code",
   "execution_count": 13,
   "id": "b841fe97-b36c-4864-8cc0-05a4eb261c99",
   "metadata": {},
   "outputs": [
    {
     "data": {
      "text/plain": [
       "(10,)"
      ]
     },
     "execution_count": 13,
     "metadata": {},
     "output_type": "execute_result"
    }
   ],
   "source": [
    "s4.shape"
   ]
  },
  {
   "cell_type": "markdown",
   "id": "751b4fad-5221-4600-bf16-08a9c99a73ba",
   "metadata": {},
   "source": [
    "To get the number of rows without a value of Nan we use the.count() method."
   ]
  },
  {
   "cell_type": "code",
   "execution_count": 14,
   "id": "bd6ab46b-2dc8-4078-a3c0-5211a948ca33",
   "metadata": {},
   "outputs": [
    {
     "data": {
      "text/plain": [
       "9"
      ]
     },
     "execution_count": 14,
     "metadata": {},
     "output_type": "execute_result"
    }
   ],
   "source": [
    "s4.count()"
   ]
  },
  {
   "cell_type": "markdown",
   "id": "e3861f26-346b-4039-b374-9a9870f034c7",
   "metadata": {},
   "source": [
    "To determine all the uniqie values in a Series, pandas provides the .unique() method."
   ]
  },
  {
   "cell_type": "code",
   "execution_count": 15,
   "id": "38bcd5f1-9020-4e15-9dd5-8f3fdf07aad6",
   "metadata": {},
   "outputs": [
    {
     "data": {
      "text/plain": [
       "array([10.,  0.,  1.,  2.,  3.,  4.,  5.,  6., nan])"
      ]
     },
     "execution_count": 15,
     "metadata": {},
     "output_type": "execute_result"
    }
   ],
   "source": [
    "s4.unique()"
   ]
  },
  {
   "cell_type": "markdown",
   "id": "43dbf270-f8e6-4b70-8324-c9e8a4843eda",
   "metadata": {},
   "source": [
    "The count of each of the unique items in s Aseries can be obtained using .value_counts()."
   ]
  },
  {
   "cell_type": "code",
   "execution_count": 16,
   "id": "0c994f22-f6f8-4bd8-8850-441c61d36ce3",
   "metadata": {},
   "outputs": [
    {
     "data": {
      "text/plain": [
       "1.0     2\n",
       "10.0    1\n",
       "0.0     1\n",
       "2.0     1\n",
       "3.0     1\n",
       "4.0     1\n",
       "5.0     1\n",
       "6.0     1\n",
       "Name: count, dtype: int64"
      ]
     },
     "execution_count": 16,
     "metadata": {},
     "output_type": "execute_result"
    }
   ],
   "source": [
    "s4.value_counts()"
   ]
  },
  {
   "cell_type": "markdown",
   "id": "133c92ad-ec11-462f-bd40-754ea4ca1148",
   "metadata": {},
   "source": [
    "### Alignment via index labels"
   ]
  },
  {
   "cell_type": "markdown",
   "id": "a4929f2f-e74c-447b-8520-86a1bdb0c82d",
   "metadata": {},
   "source": [
    "A fundamental difference between Numpy ndarray and a pandas Series is the ability of a series  to automatically align data from another series based on label values before performing an operation"
   ]
  },
  {
   "cell_type": "code",
   "execution_count": 17,
   "id": "37835b55-56fb-479f-aabe-aaca29daaddb",
   "metadata": {},
   "outputs": [
    {
     "data": {
      "text/plain": [
       "a    2\n",
       "b    4\n",
       "c    6\n",
       "d    8\n",
       "dtype: int64"
      ]
     },
     "execution_count": 17,
     "metadata": {},
     "output_type": "execute_result"
    }
   ],
   "source": [
    "s5=pd.Series([1,2,3,4], index=['a','b','c','d'])\n",
    "s6=pd.Series([4,3,2,1], index=['d','c','b','a'])\n",
    "\n",
    "s5+s6"
   ]
  },
  {
   "cell_type": "markdown",
   "id": "78c07dc0-e8cb-4d44-b8a5-6f3f98f91c18",
   "metadata": {},
   "source": [
    "### Creating a DataFrame"
   ]
  },
  {
   "cell_type": "markdown",
   "id": "95c5a50c-f30f-40a4-8a02-e76b30366746",
   "metadata": {},
   "source": [
    "The most straightfoward way to create a DataFrame is from a Numpy array."
   ]
  },
  {
   "cell_type": "code",
   "execution_count": 18,
   "id": "f90296ee-3194-48b4-bd03-b899ea6334ba",
   "metadata": {},
   "outputs": [
    {
     "data": {
      "text/plain": [
       "    0   1\n",
       "0  10  11\n",
       "1  20  21"
      ]
     },
     "execution_count": 18,
     "metadata": {},
     "output_type": "execute_result"
    }
   ],
   "source": [
    "pd.DataFrame(np.array([[10,11],[20,21]]))"
   ]
  },
  {
   "cell_type": "markdown",
   "id": "6ea85356-77fc-4846-ba94-4539f42222c5",
   "metadata": {},
   "source": [
    "Each row of the aray becomes a row in the DataFrame. \n",
    "\n",
    "Since we did not assign an index, pandas provides a default int64 index similar to a Series. \n",
    "\n",
    "Since we did not also specify column names, pandas assigns the names for each column with a zero-based integer series. "
   ]
  },
  {
   "cell_type": "markdown",
   "id": "f0d3bfea-3b1a-47a9-ad2b-48ac054e4401",
   "metadata": {},
   "source": [
    "A DataFrame can also be initialized by passing a list of series objects."
   ]
  },
  {
   "cell_type": "code",
   "execution_count": 19,
   "id": "baec30c7-544b-41d5-ba99-68d7eca9db0c",
   "metadata": {},
   "outputs": [
    {
     "data": {
      "text/plain": [
       "    0   1   2   3   4\n",
       "0  10  11  12  13  14\n",
       "1  15  16  17  18  19"
      ]
     },
     "execution_count": 19,
     "metadata": {},
     "output_type": "execute_result"
    }
   ],
   "source": [
    "df1=pd.DataFrame([pd.Series(np.arange(10,15)),\n",
    "                  pd.Series(np.arange(15,20))])\n",
    "df1"
   ]
  },
  {
   "cell_type": "markdown",
   "id": "e037b61f-d4ef-4386-b8d6-0726cf0171d2",
   "metadata": {},
   "source": [
    "The dimensions of a DataFrame can be determined using its .shape property. \n",
    "\n",
    "A DataFrame is always two-dimensioal. \n",
    "\n",
    "The first value of the tuple returned represents the number of rows and the second value the number of columns. "
   ]
  },
  {
   "cell_type": "code",
   "execution_count": 20,
   "id": "12759407-e54d-4bda-bfdb-ea4891698d21",
   "metadata": {},
   "outputs": [
    {
     "data": {
      "text/plain": [
       "(2, 5)"
      ]
     },
     "execution_count": 20,
     "metadata": {},
     "output_type": "execute_result"
    }
   ],
   "source": [
    "df1.shape"
   ]
  },
  {
   "cell_type": "markdown",
   "id": "7bbe27b0-b6a2-4a69-b1d0-17787a51d9ed",
   "metadata": {},
   "source": [
    "Column names can be specified when creating th DataFrame using the columns parameter of the DataFrame constructor."
   ]
  },
  {
   "cell_type": "code",
   "execution_count": 21,
   "id": "b4a8da9d-09bf-4628-99eb-bf20576d5b7f",
   "metadata": {},
   "outputs": [
    {
     "data": {
      "text/plain": [
       "    a   b\n",
       "0  10  11\n",
       "1  20  21"
      ]
     },
     "execution_count": 21,
     "metadata": {},
     "output_type": "execute_result"
    }
   ],
   "source": [
    "df2=pd.DataFrame(np.array([[10,11],[20,21]]),\n",
    "                columns=['a', 'b'])\n",
    "df2"
   ]
  },
  {
   "cell_type": "markdown",
   "id": "69fac9a1-cf29-44f4-a029-227dc954b310",
   "metadata": {},
   "source": [
    "The column names can be accessed through the DataFrame property .columns."
   ]
  },
  {
   "cell_type": "code",
   "execution_count": 22,
   "id": "5fee73f6-c3f7-4829-b638-cb3b2d284d0a",
   "metadata": {},
   "outputs": [
    {
     "data": {
      "text/plain": [
       "Index(['a', 'b'], dtype='object')"
      ]
     },
     "execution_count": 22,
     "metadata": {},
     "output_type": "execute_result"
    }
   ],
   "source": [
    "df2.columns"
   ]
  },
  {
   "cell_type": "markdown",
   "id": "133396db-3034-4d4d-a85d-ee02e62f9239",
   "metadata": {},
   "source": [
    "The column names can be changed py passing the .columns property with a list of new names."
   ]
  },
  {
   "cell_type": "code",
   "execution_count": 23,
   "id": "8324cf45-6baa-4845-89de-a2329083135a",
   "metadata": {},
   "outputs": [
    {
     "data": {
      "text/plain": [
       "   c1  c2\n",
       "0  10  11\n",
       "1  20  21"
      ]
     },
     "execution_count": 23,
     "metadata": {},
     "output_type": "execute_result"
    }
   ],
   "source": [
    "df2.columns=['c1','c2']\n",
    "df2"
   ]
  },
  {
   "cell_type": "markdown",
   "id": "04a9e2a7-e6ad-4f16-8691-cf35e1f45bb3",
   "metadata": {},
   "source": [
    "Index labels can be assigned using the index parameter of the constructor or by assigning a list directly to the .index peoperty."
   ]
  },
  {
   "cell_type": "code",
   "execution_count": 24,
   "id": "5fa73255-4475-4cb1-9671-86077893438d",
   "metadata": {},
   "outputs": [
    {
     "data": {
      "text/plain": [
       "    c1  c2\n",
       "r1   0   1\n",
       "r2   2   3"
      ]
     },
     "execution_count": 24,
     "metadata": {},
     "output_type": "execute_result"
    }
   ],
   "source": [
    "df3=pd.DataFrame(np.array([[0,1],[2,3]]),\n",
    "                 columns=['c1','c2'],\n",
    "                 index=['r1','r2'])\n",
    "df3"
   ]
  },
  {
   "cell_type": "markdown",
   "id": "3f845ab8-937f-42a1-bb27-650c538dc1ab",
   "metadata": {},
   "source": [
    "The index of a DataFrame can b accessed with its .index property."
   ]
  },
  {
   "cell_type": "code",
   "execution_count": 25,
   "id": "6e296aaf-a779-4742-80e1-974a8233581a",
   "metadata": {},
   "outputs": [
    {
     "data": {
      "text/plain": [
       "Index(['r1', 'r2'], dtype='object')"
      ]
     },
     "execution_count": 25,
     "metadata": {},
     "output_type": "execute_result"
    }
   ],
   "source": [
    "df3.index"
   ]
  },
  {
   "cell_type": "markdown",
   "id": "29cf3e19-5c08-4a92-9ece-6a34dba96d92",
   "metadata": {},
   "source": [
    "The values of a DataFrame can be accessed through the .values property. The result is a multidimensional array."
   ]
  },
  {
   "cell_type": "code",
   "execution_count": 26,
   "id": "bac32101-0ff7-4fa6-b7cd-79f4672e03c8",
   "metadata": {},
   "outputs": [
    {
     "data": {
      "text/plain": [
       "array([[0, 1],\n",
       "       [2, 3]])"
      ]
     },
     "execution_count": 26,
     "metadata": {},
     "output_type": "execute_result"
    }
   ],
   "source": [
    "df3.values"
   ]
  },
  {
   "cell_type": "markdown",
   "id": "49631c5e-29de-49f9-91c8-54a6ba830ba5",
   "metadata": {},
   "source": [
    "A DataFrame can also be craeted by passing a dictionary containing one or more Series objects, where the dictionary keys contain the column names and each Series is one column of data. "
   ]
  },
  {
   "cell_type": "code",
   "execution_count": 27,
   "id": "286fdd9b-510c-438c-97d3-9ad2bb13dcda",
   "metadata": {},
   "outputs": [
    {
     "data": {
      "text/plain": [
       "   c1  c2\n",
       "0   1   6\n",
       "1   2   7\n",
       "2   3   8\n",
       "3   4   9\n",
       "4   5  10"
      ]
     },
     "execution_count": 27,
     "metadata": {},
     "output_type": "execute_result"
    }
   ],
   "source": [
    "s7=pd.Series(np.arange(1,6,1))\n",
    "s8=pd.Series(np.arange(6,11,1))\n",
    "pd.DataFrame({'c1':s7,'c2':s8})"
   ]
  },
  {
   "cell_type": "markdown",
   "id": "0563daef-8844-4d64-ad85-064c1926846e",
   "metadata": {},
   "source": [
    "A DataFrame also does automtic alignment of the data for each series passed in by a dictionary."
   ]
  },
  {
   "cell_type": "code",
   "execution_count": 28,
   "id": "f87c3fe6-5f02-424d-a191-a960b063f70f",
   "metadata": {},
   "outputs": [
    {
     "data": {
      "text/plain": [
       "   c1  c2    c3\n",
       "0   1   6   NaN\n",
       "1   2   7  12.0\n",
       "2   3   8  13.0\n",
       "3   4   9   NaN\n",
       "4   5  10   NaN"
      ]
     },
     "execution_count": 28,
     "metadata": {},
     "output_type": "execute_result"
    }
   ],
   "source": [
    "s9=pd.Series(np.arange(12,14), index=[1,2])\n",
    "pd.DataFrame({'c1':s7,'c2':s8,'c3':s9})"
   ]
  },
  {
   "cell_type": "markdown",
   "id": "c06be795-3ff7-48ac-918c-1bf86c0d4969",
   "metadata": {},
   "source": [
    "### Example data"
   ]
  },
  {
   "cell_type": "markdown",
   "id": "ea716fc6-c7a1-4d6d-8e06-cedc51fe65d0",
   "metadata": {},
   "source": [
    "Data used in the Mastering Pandas for Finance book is available upon purchase of the book and also from their GitHub page (https://github.com/PacktPublishing/Mastering-Pandas-for-Finance/tree/master).\n",
    "\n",
    "Import the exercise files into your Jupyter environment for ease of access. "
   ]
  },
  {
   "cell_type": "code",
   "execution_count": 29,
   "id": "28eca4c4-15fd-4f1d-955a-971b60be2b69",
   "metadata": {},
   "outputs": [
    {
     "data": {
      "text/plain": [
       "                        Sector   Price  Book Value\n",
       "Symbol                                            \n",
       "MMM                Industrials  141.14      26.668\n",
       "ABT                Health Care   39.60      15.573\n",
       "ABBV               Health Care   53.95       2.954\n",
       "ACN     Information Technology   79.79       8.326\n",
       "ACE                 Financials  102.91      86.897"
      ]
     },
     "execution_count": 29,
     "metadata": {},
     "output_type": "execute_result"
    }
   ],
   "source": [
    "sp500=pd.read_csv('sp500.csv',\n",
    "                  index_col='Symbol',\n",
    "                  usecols=[0,2,3,7])\n",
    "sp500.head()"
   ]
  },
  {
   "cell_type": "markdown",
   "id": "4c4534f0-7d89-49bb-8561-d508f167cee4",
   "metadata": {},
   "source": [
    "The index of the DataFrame consists of the symbols for the 500 stocks representing the S&P500."
   ]
  },
  {
   "cell_type": "code",
   "execution_count": 30,
   "id": "a249c527-8c4f-4a88-a150-470bdacda85c",
   "metadata": {},
   "outputs": [
    {
     "data": {
      "text/plain": [
       "Index(['MMM', 'ABT', 'ABBV', 'ACN', 'ACE', 'ACT', 'ADBE', 'AES', 'AET', 'AFL',\n",
       "       ...\n",
       "       'XEL', 'XRX', 'XLNX', 'XL', 'XYL', 'YHOO', 'YUM', 'ZMH', 'ZION', 'ZTS'],\n",
       "      dtype='object', name='Symbol', length=500)"
      ]
     },
     "execution_count": 30,
     "metadata": {},
     "output_type": "execute_result"
    }
   ],
   "source": [
    "sp500.index"
   ]
  },
  {
   "cell_type": "markdown",
   "id": "f6082017-e446-4a1b-af2a-696f7f0d5ce7",
   "metadata": {},
   "source": [
    "### Selecting the columns of a DataFrame"
   ]
  },
  {
   "cell_type": "markdown",
   "id": "058f865c-5082-4b3b-96b3-78d7fc90dfbd",
   "metadata": {},
   "source": [
    "Selecting data in specific columns is done using the [] operator, which can be passed as either a single object or a list of objects. \n",
    "\n",
    "These objects are used to look up columns by zero-based location matching or by matching the objects to the values in the column index. \n",
    "\n",
    "This results in a new DataFrame with data copied from the original DataFrame, which is true even if the list contains a single value.\n",
    "\n",
    "If the values passed to [] consist of non-integers the DataFrame will attempt to match the values to the values in the column index."
   ]
  },
  {
   "cell_type": "code",
   "execution_count": 31,
   "id": "120d3ff4-d465-4738-8ef8-07d61bf5b5b4",
   "metadata": {},
   "outputs": [
    {
     "data": {
      "text/plain": [
       "         Price  Book Value\n",
       "Symbol                    \n",
       "MMM     141.14      26.668\n",
       "ABT      39.60      15.573\n",
       "ABBV     53.95       2.954"
      ]
     },
     "execution_count": 31,
     "metadata": {},
     "output_type": "execute_result"
    }
   ],
   "source": [
    "#sp500[[1, 2]].head(3)\n",
    "sp500[['Price','Book Value']].head(3)"
   ]
  },
  {
   "cell_type": "markdown",
   "id": "73e6b482-b254-4d2c-87e1-45ab65dd06a1",
   "metadata": {},
   "source": [
    "Columns can also be retrieved through attribute access. Each column in a DataFrame dynamically adds a property to the DataFrame for each column where the name of the property is the name of the column. \n",
    "\n",
    "Note that this will not work for the Book Value column as the name has a space"
   ]
  },
  {
   "cell_type": "code",
   "execution_count": 32,
   "id": "13e3d2d7-a9e9-4e39-961c-61e879aad934",
   "metadata": {},
   "outputs": [
    {
     "data": {
      "text/plain": [
       "Symbol\n",
       "MMM     141.14\n",
       "ABT      39.60\n",
       "ABBV     53.95\n",
       "ACN      79.79\n",
       "         ...  \n",
       "YUM      74.77\n",
       "ZMH     101.84\n",
       "ZION     28.43\n",
       "ZTS      30.53\n",
       "Name: Price, Length: 500, dtype: float64"
      ]
     },
     "execution_count": 32,
     "metadata": {},
     "output_type": "execute_result"
    }
   ],
   "source": [
    "sp500.Price"
   ]
  },
  {
   "cell_type": "markdown",
   "id": "4d86d746-fa62-430c-ac2a-63c71449bb88",
   "metadata": {},
   "source": [
    "### Selecting rows of a DataFrame using the index"
   ]
  },
  {
   "cell_type": "markdown",
   "id": "04586a26-149e-4901-8c21-f99f8c165086",
   "metadata": {},
   "source": [
    "#### 1. Slicing using the [] operator"
   ]
  },
  {
   "cell_type": "markdown",
   "id": "e68d6848-e486-4ae2-9f47-8b38440b6e69",
   "metadata": {},
   "source": [
    "Slicing a DataFrame across its index is syntatctically similar to slicing a Series. \n",
    "\n",
    "Slicing works along both positions and labels."
   ]
  },
  {
   "cell_type": "code",
   "execution_count": 33,
   "id": "f8d5f652-49af-402c-a94d-ba32bf5e60e8",
   "metadata": {},
   "outputs": [
    {
     "data": {
      "text/plain": [
       "             Sector   Price  Book Value\n",
       "Symbol                                 \n",
       "MMM     Industrials  141.14      26.668\n",
       "ABT     Health Care   39.60      15.573\n",
       "ABBV    Health Care   53.95       2.954"
      ]
     },
     "execution_count": 33,
     "metadata": {},
     "output_type": "execute_result"
    }
   ],
   "source": [
    "sp500[:3]"
   ]
  },
  {
   "cell_type": "code",
   "execution_count": 34,
   "id": "4341486e-c1ca-4ca8-bc91-b52908b9dfbc",
   "metadata": {},
   "outputs": [
    {
     "data": {
      "text/plain": [
       "                        Sector  Price  Book Value\n",
       "Symbol                                           \n",
       "XYL                Industrials  38.42      12.127\n",
       "YHOO    Information Technology  35.02      12.768\n",
       "YUM     Consumer Discretionary  74.77       5.147"
      ]
     },
     "execution_count": 34,
     "metadata": {},
     "output_type": "execute_result"
    }
   ],
   "source": [
    "sp500['XYL':'YUM']"
   ]
  },
  {
   "cell_type": "markdown",
   "id": "639aae7a-6cd1-4b19-9084-65e151bf013b",
   "metadata": {},
   "source": [
    "#### 2. Selecting rows by index label and location - .loc[] and .iloc[]"
   ]
  },
  {
   "cell_type": "markdown",
   "id": "a279afbf-c0af-4d46-8a60-93693e53eb8f",
   "metadata": {},
   "source": [
    "Rows can be retrieved via index label using .loc[]."
   ]
  },
  {
   "cell_type": "code",
   "execution_count": 35,
   "id": "9c03f440-6ad6-4247-ba0e-fc8b73db4754",
   "metadata": {},
   "outputs": [
    {
     "data": {
      "text/plain": [
       "Sector        Industrials\n",
       "Price              141.14\n",
       "Book Value         26.668\n",
       "Name: MMM, dtype: object"
      ]
     },
     "execution_count": 35,
     "metadata": {},
     "output_type": "execute_result"
    }
   ],
   "source": [
    "sp500.loc['MMM']"
   ]
  },
  {
   "cell_type": "code",
   "execution_count": 36,
   "id": "3b812582-4b87-4704-a5dd-55707704fb7c",
   "metadata": {},
   "outputs": [
    {
     "data": {
      "text/plain": [
       "                        Sector   Price  Book Value\n",
       "Symbol                                            \n",
       "MMM                Industrials  141.14      26.668\n",
       "MSFT    Information Technology   40.12      10.584"
      ]
     },
     "execution_count": 36,
     "metadata": {},
     "output_type": "execute_result"
    }
   ],
   "source": [
    "sp500.loc[['MMM','MSFT']]"
   ]
  },
  {
   "cell_type": "markdown",
   "id": "07f4cfce-02eb-4e45-889d-7ff718986345",
   "metadata": {},
   "source": [
    "Rows can be retrieved by location using .iloc[]."
   ]
  },
  {
   "cell_type": "code",
   "execution_count": 37,
   "id": "ad21b9e0-f243-46c4-9797-aef05019f7b3",
   "metadata": {},
   "outputs": [
    {
     "data": {
      "text/plain": [
       "             Sector   Price  Book Value\n",
       "Symbol                                 \n",
       "MMM     Industrials  141.14      26.668\n",
       "ABBV    Health Care   53.95       2.954"
      ]
     },
     "execution_count": 37,
     "metadata": {},
     "output_type": "execute_result"
    }
   ],
   "source": [
    "sp500.iloc[[0,2]]"
   ]
  },
  {
   "cell_type": "markdown",
   "id": "9859f5e6-64d5-430f-8d7d-80ed0eecbee6",
   "metadata": {},
   "source": [
    "It is possible to look up the location in index odf a specific value , which can then be used to retrieve the row(s)."
   ]
  },
  {
   "cell_type": "code",
   "execution_count": 38,
   "id": "356adb79-357f-4a98-bdf4-28061aedefee",
   "metadata": {},
   "outputs": [
    {
     "data": {
      "text/plain": [
       "(0, 10)"
      ]
     },
     "execution_count": 38,
     "metadata": {},
     "output_type": "execute_result"
    }
   ],
   "source": [
    "i1=sp500.index.get_loc('MMM')\n",
    "i2=sp500.index.get_loc('A')\n",
    "i1,i2\n"
   ]
  },
  {
   "cell_type": "code",
   "execution_count": 39,
   "id": "4feaf05f-dee3-4151-a2e7-eec29e4d58e7",
   "metadata": {},
   "outputs": [
    {
     "data": {
      "text/plain": [
       "             Sector   Price  Book Value\n",
       "Symbol                                 \n",
       "MMM     Industrials  141.14      26.668\n",
       "A       Health Care   56.18      16.928"
      ]
     },
     "execution_count": 39,
     "metadata": {},
     "output_type": "execute_result"
    }
   ],
   "source": [
    "sp500.iloc[[i1,i2]]"
   ]
  },
  {
   "cell_type": "markdown",
   "id": "b496a89d-2cf0-4c39-ae72-84905e5c2e57",
   "metadata": {},
   "source": [
    "#### 3. Scalar lookup by label or location using .at and .iat"
   ]
  },
  {
   "cell_type": "markdown",
   "id": "5d12c05b-e9dd-46d4-a955-6212aa2587ad",
   "metadata": {},
   "source": [
    "Scalar values can be looked up by label using .at[] by passing the row label and then the column name/value. "
   ]
  },
  {
   "cell_type": "code",
   "execution_count": 40,
   "id": "ffc8689d-a017-4e46-a9b0-8b0b0f006a17",
   "metadata": {},
   "outputs": [
    {
     "data": {
      "text/plain": [
       "141.14"
      ]
     },
     "execution_count": 40,
     "metadata": {},
     "output_type": "execute_result"
    }
   ],
   "source": [
    "sp500.at['MMM', 'Price']"
   ]
  },
  {
   "cell_type": "markdown",
   "id": "614b0ffa-5436-4b70-a0da-10aea0dd98c2",
   "metadata": {},
   "source": [
    "Scalar values can be looked up by location using .iat[] by passing both the row location and then the column location."
   ]
  },
  {
   "cell_type": "code",
   "execution_count": 41,
   "id": "4308378f-6669-440c-b2d5-690cb1f528c4",
   "metadata": {},
   "outputs": [
    {
     "data": {
      "text/plain": [
       "141.14"
      ]
     },
     "execution_count": 41,
     "metadata": {},
     "output_type": "execute_result"
    }
   ],
   "source": [
    "sp500.iat[0,1]"
   ]
  },
  {
   "cell_type": "markdown",
   "id": "6beb6090-8fbc-475a-a7b7-09d61474c702",
   "metadata": {},
   "source": [
    "### Selecting rows using Boolean selection"
   ]
  },
  {
   "cell_type": "markdown",
   "id": "1fa73a41-12e9-4e1a-a125-9ad462f38df6",
   "metadata": {},
   "source": [
    "Rows can be selected using the Boolean selection with an array calculated from the result of applying a log logical condition to the values in any of the columns."
   ]
  },
  {
   "cell_type": "code",
   "execution_count": 42,
   "id": "b3e5dfcd-66e4-461b-a635-e7df21798783",
   "metadata": {},
   "outputs": [
    {
     "data": {
      "text/plain": [
       "Symbol\n",
       "MMM     False\n",
       "ABT      True\n",
       "ABBV     True\n",
       "ACN      True\n",
       "        ...  \n",
       "YUM      True\n",
       "ZMH     False\n",
       "ZION     True\n",
       "ZTS      True\n",
       "Name: Price, Length: 500, dtype: bool"
      ]
     },
     "execution_count": 42,
     "metadata": {},
     "output_type": "execute_result"
    }
   ],
   "source": [
    "sp500.Price < 100"
   ]
  },
  {
   "cell_type": "markdown",
   "id": "17ad7cd5-c713-49a3-b986-c982d2446856",
   "metadata": {},
   "source": [
    "This results in a series that can be used to select rows where the value is True. "
   ]
  },
  {
   "cell_type": "markdown",
   "id": "a0b1ff35-caac-4966-adee-ebb2aaf5a846",
   "metadata": {},
   "source": [
    "sp500[sp500.Price < 100]"
   ]
  },
  {
   "cell_type": "markdown",
   "id": "eaf1e118-badf-4f57-933d-c021f0c2331e",
   "metadata": {},
   "source": [
    "Multiple conditions can be put together using parentheses. \n",
    "\n",
    "It is possible to only select a subset of the columns."
   ]
  },
  {
   "cell_type": "code",
   "execution_count": 43,
   "id": "82d5725c-8af1-4eea-bc0e-47c8c3e15438",
   "metadata": {},
   "outputs": [
    {
     "data": {
      "text/plain": [
       "        Price\n",
       "Symbol       \n",
       "FTR      5.81\n",
       "HCBK     9.80\n",
       "HBAN     9.10\n",
       "SLM      8.82\n",
       "WIN      9.38"
      ]
     },
     "execution_count": 43,
     "metadata": {},
     "output_type": "execute_result"
    }
   ],
   "source": [
    "sp500[(sp500.Price < 10) & (sp500.Price > 0)] [['Price']]"
   ]
  },
  {
   "cell_type": "markdown",
   "id": "960a2a41-92c9-4ea7-ac9e-97d31cf33f78",
   "metadata": {},
   "source": [
    "### Arithmetic on a DataFrame"
   ]
  },
  {
   "cell_type": "markdown",
   "id": "98faac0b-e438-4280-9a60-5b0dfec84fbf",
   "metadata": {},
   "source": [
    "Arithmetic operations using scalar values willbe applied to every element of a DataFrame."
   ]
  },
  {
   "cell_type": "code",
   "execution_count": 44,
   "id": "a4de3fac-aced-4ec3-8720-9d47b06f6ceb",
   "metadata": {},
   "outputs": [
    {
     "data": {
      "text/plain": [
       "          A         B         C         D\n",
       "0  0.469112 -0.282863 -1.509059 -1.135632\n",
       "1  1.212112 -0.173215  0.119209 -1.044236\n",
       "2 -0.861849 -2.104569 -0.494929  1.071804\n",
       "3  0.721555 -0.706771 -1.039575  0.271860\n",
       "4 -0.424972  0.567020  0.276232 -1.087401"
      ]
     },
     "execution_count": 44,
     "metadata": {},
     "output_type": "execute_result"
    }
   ],
   "source": [
    "np.random.seed(123456)\n",
    "df=pd.DataFrame(np.random.randn(5,4),\n",
    "                columns=['A', 'B', 'C', 'D'])\n",
    "df"
   ]
  },
  {
   "cell_type": "markdown",
   "id": "d3f7472c-16b2-40b2-9fcf-e91194f8db5b",
   "metadata": {},
   "source": [
    "By default any arithmetic operation is applied across all rows and columns of a DataFrame and will return a new DataFrame with the results (leaving the original unchanged)."
   ]
  },
  {
   "cell_type": "code",
   "execution_count": 45,
   "id": "072443a2-943e-4d2b-8b03-aa7d60f7bf3e",
   "metadata": {},
   "outputs": [
    {
     "data": {
      "text/plain": [
       "          A         B         C         D\n",
       "0  0.938225 -0.565727 -3.018117 -2.271265\n",
       "1  2.424224 -0.346429  0.238417 -2.088472\n",
       "2 -1.723698 -4.209138 -0.989859  2.143608\n",
       "3  1.443110 -1.413542 -2.079150  0.543720\n",
       "4 -0.849945  1.134041  0.552464 -2.174801"
      ]
     },
     "execution_count": 45,
     "metadata": {},
     "output_type": "execute_result"
    }
   ],
   "source": [
    "df*2"
   ]
  },
  {
   "cell_type": "markdown",
   "id": "4a30b561-b46e-41d9-b5ff-fdb7c3dd4fe2",
   "metadata": {},
   "source": [
    "When performing na operation between a DataFrame and a Series , pandas will align the Series index along the DataFrame columns, performing what is referred to as a row wise broadcast. "
   ]
  },
  {
   "cell_type": "code",
   "execution_count": 46,
   "id": "ba9b9251-2e35-46c7-b765-f90a871a51ac",
   "metadata": {},
   "outputs": [
    {
     "data": {
      "text/plain": [
       "          A         B         C         D\n",
       "0  0.000000  0.000000  0.000000  0.000000\n",
       "1  0.743000  0.109649  1.628267  0.091396\n",
       "2 -1.330961 -1.821706  1.014129  2.207436\n",
       "3  0.252443 -0.423908  0.469484  1.407492\n",
       "4 -0.894085  0.849884  1.785291  0.048232"
      ]
     },
     "execution_count": 46,
     "metadata": {},
     "output_type": "execute_result"
    }
   ],
   "source": [
    "df-df.iloc[0]"
   ]
  },
  {
   "cell_type": "markdown",
   "id": "aa53d663-d595-45a0-bac0-03df839f8c55",
   "metadata": {},
   "source": [
    "An arithmetic operation between two DataFrame objets will align with both the column and index labels."
   ]
  },
  {
   "cell_type": "code",
   "execution_count": 47,
   "id": "2935d1f3-509c-4dd2-9d5e-a429e26780a9",
   "metadata": {},
   "outputs": [
    {
     "data": {
      "text/plain": [
       "          B         C\n",
       "1 -0.173215  0.119209\n",
       "2 -2.104569 -0.494929\n",
       "3 -0.706771 -1.039575"
      ]
     },
     "execution_count": 47,
     "metadata": {},
     "output_type": "execute_result"
    }
   ],
   "source": [
    "subframe = df[1:4][['B','C']]\n",
    "subframe"
   ]
  },
  {
   "cell_type": "code",
   "execution_count": 48,
   "id": "1f69ef6e-fbdc-465a-9054-49a5f3fa5987",
   "metadata": {},
   "outputs": [
    {
     "data": {
      "text/plain": [
       "    A    B    C   D\n",
       "0 NaN  NaN  NaN NaN\n",
       "1 NaN  0.0  0.0 NaN\n",
       "2 NaN  0.0  0.0 NaN\n",
       "3 NaN  0.0  0.0 NaN\n",
       "4 NaN  NaN  NaN NaN"
      ]
     },
     "execution_count": 48,
     "metadata": {},
     "output_type": "execute_result"
    }
   ],
   "source": [
    "df-subframe"
   ]
  },
  {
   "cell_type": "markdown",
   "id": "9ab30b11-ef19-431e-ba31-bae04dff207c",
   "metadata": {},
   "source": [
    "Additional control of an arithmetic operation can be gained using the arithmetic methods provided by the DataFrame object. \n",
    "\n",
    "These methods provide the specification of a particular axis."
   ]
  },
  {
   "cell_type": "code",
   "execution_count": 49,
   "id": "17683112-058a-49fd-b7a5-eadcef5a3f66",
   "metadata": {},
   "outputs": [
    {
     "data": {
      "text/plain": [
       "     A         B         C         D\n",
       "0  0.0 -0.751976 -1.978171 -1.604745\n",
       "1  0.0 -1.385327 -1.092903 -2.256348\n",
       "2  0.0 -1.242720  0.366920  1.933653\n",
       "3  0.0 -1.428326 -1.761130 -0.449695\n",
       "4  0.0  0.991993  0.701204 -0.662428"
      ]
     },
     "execution_count": 49,
     "metadata": {},
     "output_type": "execute_result"
    }
   ],
   "source": [
    "a_col = df['A']\n",
    "df.sub(a_col, axis=0)"
   ]
  },
  {
   "cell_type": "markdown",
   "id": "aa4b1f76-7f99-4f95-b35f-35d99fddb34e",
   "metadata": {},
   "source": [
    "### Reindexing the Series and DataFrame objects"
   ]
  },
  {
   "cell_type": "markdown",
   "id": "5e45cf7b-bb14-4329-aad3-4ac7e659f918",
   "metadata": {},
   "source": [
    "This is the process of matching data in a Series or DataFrame with a given set of labels along a paticular axis. "
   ]
  },
  {
   "cell_type": "code",
   "execution_count": 50,
   "id": "97280c5e-c5c7-4844-8de9-698c05bd655a",
   "metadata": {},
   "outputs": [
    {
     "data": {
      "text/plain": [
       "0    1.624345\n",
       "1   -0.611756\n",
       "2   -0.528172\n",
       "3   -1.072969\n",
       "4    0.865408\n",
       "dtype: float64"
      ]
     },
     "execution_count": 50,
     "metadata": {},
     "output_type": "execute_result"
    }
   ],
   "source": [
    "np.random.seed(1)\n",
    "s10=pd.Series(np.random.randn(5))\n",
    "s10"
   ]
  },
  {
   "cell_type": "code",
   "execution_count": 51,
   "id": "1c1487f0-32c8-4a33-94ff-26122d15a4cd",
   "metadata": {},
   "outputs": [
    {
     "data": {
      "text/plain": [
       "a    1.624345\n",
       "b   -0.611756\n",
       "c   -0.528172\n",
       "d   -1.072969\n",
       "e    0.865408\n",
       "dtype: float64"
      ]
     },
     "execution_count": 51,
     "metadata": {},
     "output_type": "execute_result"
    }
   ],
   "source": [
    "s10.index = ['a','b','c', 'd', 'e']\n",
    "s10"
   ]
  },
  {
   "cell_type": "markdown",
   "id": "7d49f527-1c2f-4c0b-9105-bf3ed2b821a7",
   "metadata": {},
   "source": [
    "Greater flexibility in creating a new index is provided using the .reindex() method. A example is that the list provided to .reindex() can be of different length than the number of rows in the Series. "
   ]
  },
  {
   "cell_type": "code",
   "execution_count": 52,
   "id": "52e1ef48-ef13-4d56-9a4c-678f3501e964",
   "metadata": {},
   "outputs": [
    {
     "data": {
      "text/plain": [
       "a    0.0\n",
       "c    NaN\n",
       "e    NaN\n",
       "g    NaN\n",
       "dtype: float64"
      ]
     },
     "execution_count": 52,
     "metadata": {},
     "output_type": "execute_result"
    }
   ],
   "source": [
    "s11=s.reindex(['a', 'c', 'e', 'g'])\n",
    "s11['a'] = 0\n",
    "s11"
   ]
  },
  {
   "cell_type": "code",
   "execution_count": 53,
   "id": "550ca97e-dbca-4622-95b2-4d8c03c0e310",
   "metadata": {},
   "outputs": [
    {
     "data": {
      "text/plain": [
       "1.6243453636632417"
      ]
     },
     "execution_count": 53,
     "metadata": {},
     "output_type": "execute_result"
    }
   ],
   "source": [
    "s10['a']"
   ]
  },
  {
   "cell_type": "markdown",
   "id": "ba17e9e9-1a01-4705-b6f4-85e6c7049f1d",
   "metadata": {},
   "source": [
    "Pointers:-\n",
    "\n",
    "1. The result is a new Series with the labels provided as a parameter, and if the existing series had a matching label, that value is copied to the new Series.\n",
    "2. If there is an index label created for which the series did not have an already existing label, the value will be assigned NaN.\n"
   ]
  },
  {
   "cell_type": "markdown",
   "id": "8fb3fc72-236b-4671-848b-2274267f0d9a",
   "metadata": {},
   "source": [
    "Reindexing is also useful when you want to align two Series to perform an operation on matching elements from each series, but for some reason, the two  Series had index labels that wouldn't initially align. "
   ]
  },
  {
   "cell_type": "code",
   "execution_count": 54,
   "id": "ca85731b-d576-42e8-803a-8e870d48e912",
   "metadata": {},
   "outputs": [
    {
     "data": {
      "text/plain": [
       "0   NaN\n",
       "1   NaN\n",
       "2   NaN\n",
       "0   NaN\n",
       "1   NaN\n",
       "2   NaN\n",
       "dtype: float64"
      ]
     },
     "execution_count": 54,
     "metadata": {},
     "output_type": "execute_result"
    }
   ],
   "source": [
    "s12=pd.Series([0,1,2], index=[0,1,2])\n",
    "s13=pd.Series([3,4,5], index=['0','1','2'])\n",
    "s12+s13"
   ]
  },
  {
   "cell_type": "code",
   "execution_count": 55,
   "id": "f9032f8e-6703-453f-b956-99fa41bfd07c",
   "metadata": {},
   "outputs": [
    {
     "data": {
      "text/plain": [
       "0    3\n",
       "1    5\n",
       "2    7\n",
       "dtype: int64"
      ]
     },
     "execution_count": 55,
     "metadata": {},
     "output_type": "execute_result"
    }
   ],
   "source": [
    "s13.index=s13.index.values.astype(int)\n",
    "s12+s13"
   ]
  },
  {
   "cell_type": "markdown",
   "id": "78d6cb80-8986-4d10-a4c4-746ef909ca93",
   "metadata": {},
   "source": [
    "The default action of inserting NaN as a missing value during .reindex() can be chnaged using fill_value of the method."
   ]
  },
  {
   "cell_type": "code",
   "execution_count": 56,
   "id": "d57a16c2-fb52-4092-bee1-83029de2caba",
   "metadata": {},
   "outputs": [
    {
     "data": {
      "text/plain": [
       "a    1.624345\n",
       "f    0.000000\n",
       "dtype: float64"
      ]
     },
     "execution_count": 56,
     "metadata": {},
     "output_type": "execute_result"
    }
   ],
   "source": [
    "s14 = s10.copy()\n",
    "s14.reindex(['a','f'], fill_value=0)"
   ]
  },
  {
   "cell_type": "markdown",
   "id": "783d570a-159b-493d-96cc-84aa5357910b",
   "metadata": {},
   "source": [
    "When performing reindex on ordered data, such a time-series , it is possible to perform interpolation of missing values."
   ]
  },
  {
   "cell_type": "code",
   "execution_count": 57,
   "id": "8661e757-9196-452c-8673-83f263eee8ad",
   "metadata": {},
   "outputs": [
    {
     "data": {
      "text/plain": [
       "0      red\n",
       "3    green\n",
       "5     blue\n",
       "dtype: object"
      ]
     },
     "execution_count": 57,
     "metadata": {},
     "output_type": "execute_result"
    }
   ],
   "source": [
    "s15=pd.Series(['red', 'green', 'blue'], index=[0,3,5])\n",
    "s15"
   ]
  },
  {
   "cell_type": "markdown",
   "id": "24530430-2a01-40a5-86bc-40eb4959a1ff",
   "metadata": {},
   "source": [
    "The following command demonstrates forward filling, often referred to as the last known value. The Series is reindexed to create a contiguous integer index , and using the method='ffil' parameter, any new index labels are assigned a value from the previously seen value along the Series."
   ]
  },
  {
   "cell_type": "code",
   "execution_count": 58,
   "id": "60c145f1-23b2-40a2-b675-7859741c00ed",
   "metadata": {},
   "outputs": [
    {
     "data": {
      "text/plain": [
       "0      red\n",
       "1      red\n",
       "2      red\n",
       "3    green\n",
       "4    green\n",
       "5     blue\n",
       "6     blue\n",
       "dtype: object"
      ]
     },
     "execution_count": 58,
     "metadata": {},
     "output_type": "execute_result"
    }
   ],
   "source": [
    "s15.reindex(np.arange(0,7), method='ffill')"
   ]
  },
  {
   "cell_type": "markdown",
   "id": "3b449bb6-8d6f-4b58-8129-c64de2c65b8c",
   "metadata": {},
   "source": [
    "By contrast, the result of the same Series when backward filling using the method='bfill' parameter is as below,"
   ]
  },
  {
   "cell_type": "code",
   "execution_count": 59,
   "id": "7b7fa111-8c61-4ec4-95b1-7c4a4c74f67f",
   "metadata": {},
   "outputs": [
    {
     "data": {
      "text/plain": [
       "0      red\n",
       "1    green\n",
       "2    green\n",
       "3    green\n",
       "4     blue\n",
       "5     blue\n",
       "6      NaN\n",
       "dtype: object"
      ]
     },
     "execution_count": 59,
     "metadata": {},
     "output_type": "execute_result"
    }
   ],
   "source": [
    "s15.reindex(np.arange(0,7), method='bfill')"
   ]
  },
  {
   "cell_type": "markdown",
   "id": "1f043df9-800c-40c9-bfac-5a1c2182109f",
   "metadata": {},
   "source": [
    "This notebook briefly overviewed the pandas Series and DataFrame objects, \n",
    "how they are used to represent data, and how to select data in both via queries, \n",
    "columns, and indices. The concept of reindexing both classes of objects is also \n",
    "introduced."
   ]
  }
 ],
 "metadata": {
  "kernelspec": {
   "display_name": "Python 3 (ipykernel)",
   "language": "python",
   "name": "python3"
  },
  "language_info": {
   "codemirror_mode": {
    "name": "ipython",
    "version": 3
   },
   "file_extension": ".py",
   "mimetype": "text/x-python",
   "name": "python",
   "nbconvert_exporter": "python",
   "pygments_lexer": "ipython3",
   "version": "3.11.5"
  }
 },
 "nbformat": 4,
 "nbformat_minor": 5
}
